{
  "nbformat": 4,
  "nbformat_minor": 0,
  "metadata": {
    "kernelspec": {
      "display_name": "Python 3",
      "language": "python",
      "name": "python3"
    },
    "language_info": {
      "codemirror_mode": {
        "name": "ipython",
        "version": 3
      },
      "file_extension": ".py",
      "mimetype": "text/x-python",
      "name": "python",
      "nbconvert_exporter": "python",
      "pygments_lexer": "ipython3",
      "version": "3.6.5"
    },
    "colab": {
      "name": "Modeling Customer Choice.ipynb",
      "provenance": [],
      "collapsed_sections": [],
      "toc_visible": true
    }
  },
  "cells": [
    {
      "cell_type": "markdown",
      "metadata": {
        "id": "TNox9NnEVbE6"
      },
      "source": [
        "# MODELING CUSTOMER CHOICE\n"
      ]
    },
    {
      "cell_type": "markdown",
      "metadata": {
        "id": "8DpVzF0nVpPH"
      },
      "source": [
        "Objective: Modeling customer choice (featured as Channel) through customer buying behavior of variety of grocery products which includes Fresh, Milk, Grocery, Frozen, Detergents_Paper, Delicassen."
      ]
    },
    {
      "cell_type": "code",
      "metadata": {
        "id": "jNBIQc8AHnbf"
      },
      "source": [
        "import pandas as pd\n",
        "import numpy as np\n",
        "from sklearn.ensemble import RandomForestClassifier\n",
        "from sklearn.model_selection import train_test_split\n",
        "from sklearn.metrics import classification_report,confusion_matrix,accuracy_score\n",
        "from sklearn import metrics\n",
        "from sklearn.metrics import precision_recall_fscore_support\n",
        "import matplotlib.pyplot as plt\n",
        "import seaborn as sns"
      ],
      "execution_count": 1,
      "outputs": []
    },
    {
      "cell_type": "code",
      "metadata": {
        "colab": {
          "base_uri": "https://localhost:8080/",
          "height": 204
        },
        "id": "gUDVzlEwHnbk",
        "outputId": "ea2191b6-868f-466f-cb2d-ce6633460921"
      },
      "source": [
        "# Load the marketing data using pandas:\n",
        "data= pd.read_csv(r'MarketingData.csv')\n",
        "data.head(5)"
      ],
      "execution_count": 3,
      "outputs": [
        {
          "output_type": "execute_result",
          "data": {
            "text/html": [
              "<div>\n",
              "<style scoped>\n",
              "    .dataframe tbody tr th:only-of-type {\n",
              "        vertical-align: middle;\n",
              "    }\n",
              "\n",
              "    .dataframe tbody tr th {\n",
              "        vertical-align: top;\n",
              "    }\n",
              "\n",
              "    .dataframe thead th {\n",
              "        text-align: right;\n",
              "    }\n",
              "</style>\n",
              "<table border=\"1\" class=\"dataframe\">\n",
              "  <thead>\n",
              "    <tr style=\"text-align: right;\">\n",
              "      <th></th>\n",
              "      <th>Fresh</th>\n",
              "      <th>Milk</th>\n",
              "      <th>Grocery</th>\n",
              "      <th>Frozen</th>\n",
              "      <th>Detergents_Paper</th>\n",
              "      <th>Delicassen</th>\n",
              "      <th>Channel</th>\n",
              "    </tr>\n",
              "  </thead>\n",
              "  <tbody>\n",
              "    <tr>\n",
              "      <th>0</th>\n",
              "      <td>6623.613537</td>\n",
              "      <td>5513.093240</td>\n",
              "      <td>6019.057354</td>\n",
              "      <td>5669.568008</td>\n",
              "      <td>5898.660607</td>\n",
              "      <td>5179.234947</td>\n",
              "      <td>2</td>\n",
              "    </tr>\n",
              "    <tr>\n",
              "      <th>1</th>\n",
              "      <td>5642.542497</td>\n",
              "      <td>5829.866565</td>\n",
              "      <td>3960.339943</td>\n",
              "      <td>4270.020548</td>\n",
              "      <td>3498.818262</td>\n",
              "      <td>4327.423268</td>\n",
              "      <td>2</td>\n",
              "    </tr>\n",
              "    <tr>\n",
              "      <th>2</th>\n",
              "      <td>5292.078175</td>\n",
              "      <td>6634.370556</td>\n",
              "      <td>4444.335138</td>\n",
              "      <td>4888.286021</td>\n",
              "      <td>3265.391352</td>\n",
              "      <td>4887.560190</td>\n",
              "      <td>2</td>\n",
              "    </tr>\n",
              "    <tr>\n",
              "      <th>3</th>\n",
              "      <td>5595.227928</td>\n",
              "      <td>4754.860698</td>\n",
              "      <td>2977.856511</td>\n",
              "      <td>3462.490957</td>\n",
              "      <td>3609.264559</td>\n",
              "      <td>4268.641413</td>\n",
              "      <td>0</td>\n",
              "    </tr>\n",
              "    <tr>\n",
              "      <th>4</th>\n",
              "      <td>5126.693267</td>\n",
              "      <td>6009.649079</td>\n",
              "      <td>3811.569943</td>\n",
              "      <td>4744.115976</td>\n",
              "      <td>3829.516831</td>\n",
              "      <td>5097.491872</td>\n",
              "      <td>2</td>\n",
              "    </tr>\n",
              "  </tbody>\n",
              "</table>\n",
              "</div>"
            ],
            "text/plain": [
              "         Fresh         Milk  ...   Delicassen  Channel\n",
              "0  6623.613537  5513.093240  ...  5179.234947        2\n",
              "1  5642.542497  5829.866565  ...  4327.423268        2\n",
              "2  5292.078175  6634.370556  ...  4887.560190        2\n",
              "3  5595.227928  4754.860698  ...  4268.641413        0\n",
              "4  5126.693267  6009.649079  ...  5097.491872        2\n",
              "\n",
              "[5 rows x 7 columns]"
            ]
          },
          "metadata": {
            "tags": []
          },
          "execution_count": 3
        }
      ]
    },
    {
      "cell_type": "code",
      "metadata": {
        "colab": {
          "base_uri": "https://localhost:8080/"
        },
        "id": "mtqCsxGnHnbm",
        "outputId": "14f4d21b-234d-4ebf-eea0-80b2882a735f"
      },
      "source": [
        "#Check the shape, the missing values, and show the summary report of the data:\n",
        "data.shape"
      ],
      "execution_count": 4,
      "outputs": [
        {
          "output_type": "execute_result",
          "data": {
            "text/plain": [
              "(20000, 7)"
            ]
          },
          "metadata": {
            "tags": []
          },
          "execution_count": 4
        }
      ]
    },
    {
      "cell_type": "code",
      "metadata": {
        "colab": {
          "base_uri": "https://localhost:8080/"
        },
        "id": "QsMDVhb3Hnbm",
        "outputId": "5646b5e4-5fa0-483b-9b0e-7bdd22df8ccb"
      },
      "source": [
        "#Check for missing values\n",
        "data.isnull().values.any()"
      ],
      "execution_count": 5,
      "outputs": [
        {
          "output_type": "execute_result",
          "data": {
            "text/plain": [
              "False"
            ]
          },
          "metadata": {
            "tags": []
          },
          "execution_count": 5
        }
      ]
    },
    {
      "cell_type": "code",
      "metadata": {
        "colab": {
          "base_uri": "https://localhost:8080/",
          "height": 297
        },
        "id": "tx1RUfrLHnbm",
        "outputId": "9a4ab296-d6ad-4d19-88a5-0dab0d3fea6d"
      },
      "source": [
        "#See the summary report\n",
        "data.describe()"
      ],
      "execution_count": 6,
      "outputs": [
        {
          "output_type": "execute_result",
          "data": {
            "text/html": [
              "<div>\n",
              "<style scoped>\n",
              "    .dataframe tbody tr th:only-of-type {\n",
              "        vertical-align: middle;\n",
              "    }\n",
              "\n",
              "    .dataframe tbody tr th {\n",
              "        vertical-align: top;\n",
              "    }\n",
              "\n",
              "    .dataframe thead th {\n",
              "        text-align: right;\n",
              "    }\n",
              "</style>\n",
              "<table border=\"1\" class=\"dataframe\">\n",
              "  <thead>\n",
              "    <tr style=\"text-align: right;\">\n",
              "      <th></th>\n",
              "      <th>Fresh</th>\n",
              "      <th>Milk</th>\n",
              "      <th>Grocery</th>\n",
              "      <th>Frozen</th>\n",
              "      <th>Detergents_Paper</th>\n",
              "      <th>Delicassen</th>\n",
              "      <th>Channel</th>\n",
              "    </tr>\n",
              "  </thead>\n",
              "  <tbody>\n",
              "    <tr>\n",
              "      <th>count</th>\n",
              "      <td>20000.000000</td>\n",
              "      <td>20000.000000</td>\n",
              "      <td>20000.000000</td>\n",
              "      <td>20000.000000</td>\n",
              "      <td>20000.000000</td>\n",
              "      <td>20000.000000</td>\n",
              "      <td>20000.000000</td>\n",
              "    </tr>\n",
              "    <tr>\n",
              "      <th>mean</th>\n",
              "      <td>5853.350191</td>\n",
              "      <td>5267.873868</td>\n",
              "      <td>4873.362341</td>\n",
              "      <td>4899.477763</td>\n",
              "      <td>4786.331781</td>\n",
              "      <td>5613.672184</td>\n",
              "      <td>1.499350</td>\n",
              "    </tr>\n",
              "    <tr>\n",
              "      <th>std</th>\n",
              "      <td>1128.370297</td>\n",
              "      <td>1177.563192</td>\n",
              "      <td>1265.579790</td>\n",
              "      <td>1220.923393</td>\n",
              "      <td>1154.682284</td>\n",
              "      <td>1343.743103</td>\n",
              "      <td>1.118464</td>\n",
              "    </tr>\n",
              "    <tr>\n",
              "      <th>min</th>\n",
              "      <td>1.000000</td>\n",
              "      <td>1.000000</td>\n",
              "      <td>1.000000</td>\n",
              "      <td>1.000000</td>\n",
              "      <td>1.000000</td>\n",
              "      <td>1.000000</td>\n",
              "      <td>0.000000</td>\n",
              "    </tr>\n",
              "    <tr>\n",
              "      <th>25%</th>\n",
              "      <td>5155.249455</td>\n",
              "      <td>4438.167387</td>\n",
              "      <td>3983.317183</td>\n",
              "      <td>4071.997222</td>\n",
              "      <td>3877.943500</td>\n",
              "      <td>4705.582182</td>\n",
              "      <td>0.000000</td>\n",
              "    </tr>\n",
              "    <tr>\n",
              "      <th>50%</th>\n",
              "      <td>5988.720207</td>\n",
              "      <td>5337.741327</td>\n",
              "      <td>4828.100401</td>\n",
              "      <td>5048.099489</td>\n",
              "      <td>4857.070488</td>\n",
              "      <td>5425.888761</td>\n",
              "      <td>1.000000</td>\n",
              "    </tr>\n",
              "    <tr>\n",
              "      <th>75%</th>\n",
              "      <td>6573.895741</td>\n",
              "      <td>6081.755179</td>\n",
              "      <td>5784.992859</td>\n",
              "      <td>5684.876863</td>\n",
              "      <td>5602.146034</td>\n",
              "      <td>6574.281056</td>\n",
              "      <td>3.000000</td>\n",
              "    </tr>\n",
              "    <tr>\n",
              "      <th>max</th>\n",
              "      <td>10000.000000</td>\n",
              "      <td>10000.000000</td>\n",
              "      <td>10000.000000</td>\n",
              "      <td>10000.000000</td>\n",
              "      <td>10000.000000</td>\n",
              "      <td>10000.000000</td>\n",
              "      <td>3.000000</td>\n",
              "    </tr>\n",
              "  </tbody>\n",
              "</table>\n",
              "</div>"
            ],
            "text/plain": [
              "              Fresh          Milk  ...    Delicassen       Channel\n",
              "count  20000.000000  20000.000000  ...  20000.000000  20000.000000\n",
              "mean    5853.350191   5267.873868  ...   5613.672184      1.499350\n",
              "std     1128.370297   1177.563192  ...   1343.743103      1.118464\n",
              "min        1.000000      1.000000  ...      1.000000      0.000000\n",
              "25%     5155.249455   4438.167387  ...   4705.582182      0.000000\n",
              "50%     5988.720207   5337.741327  ...   5425.888761      1.000000\n",
              "75%     6573.895741   6081.755179  ...   6574.281056      3.000000\n",
              "max    10000.000000  10000.000000  ...  10000.000000      3.000000\n",
              "\n",
              "[8 rows x 7 columns]"
            ]
          },
          "metadata": {
            "tags": []
          },
          "execution_count": 6
        }
      ]
    },
    {
      "cell_type": "code",
      "metadata": {
        "colab": {
          "base_uri": "https://localhost:8080/"
        },
        "id": "AaUVItSwHnbn",
        "outputId": "b4288f4f-b8ba-44ed-fce7-afbf4cbfd280"
      },
      "source": [
        "#Check the target variable Channel\n",
        "data['Channel'].value_counts()"
      ],
      "execution_count": 7,
      "outputs": [
        {
          "output_type": "execute_result",
          "data": {
            "text/plain": [
              "0    5007\n",
              "3    5002\n",
              "1    5001\n",
              "2    4990\n",
              "Name: Channel, dtype: int64"
            ]
          },
          "metadata": {
            "tags": []
          },
          "execution_count": 7
        }
      ]
    },
    {
      "cell_type": "code",
      "metadata": {
        "colab": {
          "base_uri": "https://localhost:8080/",
          "height": 279
        },
        "id": "AsPPvskqU18L",
        "outputId": "a909bced-2f71-4e7f-94e4-3115044c88de"
      },
      "source": [
        "data['Channel'].value_counts().plot(kind='bar')"
      ],
      "execution_count": 83,
      "outputs": [
        {
          "output_type": "execute_result",
          "data": {
            "text/plain": [
              "<matplotlib.axes._subplots.AxesSubplot at 0x7f78a2add710>"
            ]
          },
          "metadata": {
            "tags": []
          },
          "execution_count": 83
        },
        {
          "output_type": "display_data",
          "data": {
            "image/png": "[encoded data removed]",
            "text/plain": [
              "<Figure size 432x288 with 1 Axes>"
            ]
          },
          "metadata": {
            "tags": [],
            "needs_background": "light"
          }
        }
      ]
    },
    {
      "cell_type": "code",
      "metadata": {
        "id": "IX-7-xn2Hnbn"
      },
      "source": [
        "#Split the data into training and testing sets\n",
        "target = 'Channel'\n",
        "X = data.drop(['Channel'],axis=1)\n",
        "y=data[target]\n"
      ],
      "execution_count": 8,
      "outputs": []
    },
    {
      "cell_type": "code",
      "metadata": {
        "id": "A20Qt_bIHnbn"
      },
      "source": [
        "# Fit a random forest classifier and store the model in a clf_random variable:\n",
        "X_train, X_test, y_train, y_test = train_test_split(X.values,y,test_size=0.20, random_state=123, stratify=y)"
      ],
      "execution_count": 9,
      "outputs": []
    },
    {
      "cell_type": "code",
      "metadata": {
        "colab": {
          "base_uri": "https://localhost:8080/"
        },
        "id": "-6CdBcPrHnbo",
        "outputId": "ec69c410-7892-46a6-c6b6-79eff4f9da9d"
      },
      "source": [
        "clf_random = RandomForestClassifier(n_estimators=20, max_depth=None,\n",
        "     min_samples_split=7, random_state=0)\n",
        "clf_random.fit(X_train,y_train)"
      ],
      "execution_count": 10,
      "outputs": [
        {
          "output_type": "execute_result",
          "data": {
            "text/plain": [
              "RandomForestClassifier(bootstrap=True, ccp_alpha=0.0, class_weight=None,\n",
              "                       criterion='gini', max_depth=None, max_features='auto',\n",
              "                       max_leaf_nodes=None, max_samples=None,\n",
              "                       min_impurity_decrease=0.0, min_impurity_split=None,\n",
              "                       min_samples_leaf=1, min_samples_split=7,\n",
              "                       min_weight_fraction_leaf=0.0, n_estimators=20,\n",
              "                       n_jobs=None, oob_score=False, random_state=0, verbose=0,\n",
              "                       warm_start=False)"
            ]
          },
          "metadata": {
            "tags": []
          },
          "execution_count": 10
        }
      ]
    },
    {
      "cell_type": "code",
      "metadata": {
        "id": "WGG_oRXkHnbo"
      },
      "source": [
        "#Predict on the test data and store the predictions in y_pred\n",
        "y_pred=clf_random.predict(X_test)"
      ],
      "execution_count": 11,
      "outputs": []
    },
    {
      "cell_type": "code",
      "metadata": {
        "colab": {
          "base_uri": "https://localhost:8080/"
        },
        "id": "ubMYQQuNHnbo",
        "outputId": "e989e5a8-ddb9-4fb2-bde5-454e038186cd"
      },
      "source": [
        "#Find out the micro- and macro-average report\n",
        "precision_recall_fscore_support(y_test, y_pred, average='macro')"
      ],
      "execution_count": 12,
      "outputs": [
        {
          "output_type": "execute_result",
          "data": {
            "text/plain": [
              "(0.8910950272506314, 0.8910093250373001, 0.891010381018051, None)"
            ]
          },
          "metadata": {
            "tags": []
          },
          "execution_count": 12
        }
      ]
    },
    {
      "cell_type": "code",
      "metadata": {
        "colab": {
          "base_uri": "https://localhost:8080/"
        },
        "id": "vV-mWm3vHnbo",
        "outputId": "fc9269f8-31c2-4d25-8e08-bf9c24327950"
      },
      "source": [
        "precision_recall_fscore_support(y_test, y_pred, average='micro')"
      ],
      "execution_count": 13,
      "outputs": [
        {
          "output_type": "execute_result",
          "data": {
            "text/plain": [
              "(0.891, 0.891, 0.891, None)"
            ]
          },
          "metadata": {
            "tags": []
          },
          "execution_count": 13
        }
      ]
    },
    {
      "cell_type": "code",
      "metadata": {
        "colab": {
          "base_uri": "https://localhost:8080/"
        },
        "id": "xBUiw-qHHnbp",
        "outputId": "5e9eb525-4f94-46fd-d1eb-350b5bbcd618"
      },
      "source": [
        "#Print the classification report\n",
        "target_names = [\"Retail\",\"RoadShow\",\"SocialMedia\",\"Televison\"]\n",
        "print(classification_report(y_test, y_pred,target_names=target_names))\n"
      ],
      "execution_count": 14,
      "outputs": [
        {
          "output_type": "stream",
          "text": [
            "              precision    recall  f1-score   support\n",
            "\n",
            "      Retail       0.90      0.90      0.90      1002\n",
            "    RoadShow       0.87      0.85      0.86      1000\n",
            " SocialMedia       0.93      0.92      0.92       998\n",
            "   Televison       0.87      0.89      0.88      1000\n",
            "\n",
            "    accuracy                           0.89      4000\n",
            "   macro avg       0.89      0.89      0.89      4000\n",
            "weighted avg       0.89      0.89      0.89      4000\n",
            "\n"
          ],
          "name": "stdout"
        }
      ]
    },
    {
      "cell_type": "code",
      "metadata": {
        "id": "FESxDVr1Hnbp"
      },
      "source": [
        "#Plot the confusion matrix\n",
        "cm = confusion_matrix(y_test, y_pred) "
      ],
      "execution_count": 15,
      "outputs": []
    },
    {
      "cell_type": "code",
      "metadata": {
        "colab": {
          "base_uri": "https://localhost:8080/",
          "height": 419
        },
        "id": "aYwfOq8iHnbp",
        "outputId": "447a6d6e-e803-4047-f1c8-06ba69596e70"
      },
      "source": [
        "cm_df = pd.DataFrame(cm,\n",
        "                     index = target_names, \n",
        "                     columns = target_names)\n",
        "plt.figure(figsize=(8,6))\n",
        "sns.heatmap(cm_df, annot=True,fmt='g',cmap='Blues')\n",
        "plt.title('Random Forest \\nAccuracy:{0:.3f}'.format(accuracy_score(y_test, y_pred)))\n",
        "plt.ylabel('True Values')\n",
        "plt.xlabel('Predicted Values')\n",
        "plt.show()\n"
      ],
      "execution_count": 16,
      "outputs": [
        {
          "output_type": "display_data",
          "data": {
            "image/png": "[encoded data removed]",
            "text/plain": [
              "<Figure size 576x432 with 2 Axes>"
            ]
          },
          "metadata": {
            "tags": [],
            "needs_background": "light"
          }
        }
      ]
    },
    {
      "cell_type": "markdown",
      "metadata": {
        "id": "a_ofw3I7I1W7"
      },
      "source": [
        "## Dealing with Imablanced Data"
      ]
    },
    {
      "cell_type": "code",
      "metadata": {
        "colab": {
          "base_uri": "https://localhost:8080/"
        },
        "id": "p5CRppVFH497",
        "outputId": "844dabf1-8934-488d-fdac-80f387cf094f"
      },
      "source": [
        "from sklearn.metrics import classification_report,confusion_matrix,accuracy_score\n",
        "import numpy as np\n",
        "import pandas as pd\n",
        "import matplotlib.pyplot as plt\n",
        "import seaborn as sns\n",
        "from sklearn.ensemble import RandomForestClassifier\n",
        "from sklearn.model_selection import train_test_split\n",
        "from imblearn.over_sampling import SMOTE\n",
        "from sklearn.preprocessing import StandardScaler\n",
        "from collections import Counter"
      ],
      "execution_count": 17,
      "outputs": [
        {
          "output_type": "stream",
          "text": [
            "/usr/local/lib/python3.6/dist-packages/sklearn/externals/six.py:31: FutureWarning: The module is deprecated in version 0.21 and will be removed in version 0.23 since we've dropped support for Python 2.7. Please rely on the official version of six (https://pypi.org/project/six/).\n",
            "  \"(https://pypi.org/project/six/).\", FutureWarning)\n",
            "/usr/local/lib/python3.6/dist-packages/sklearn/utils/deprecation.py:144: FutureWarning: The sklearn.neighbors.base module is  deprecated in version 0.22 and will be removed in version 0.24. The corresponding classes / functions should instead be imported from sklearn.neighbors. Anything that cannot be imported from sklearn.neighbors is now part of the private API.\n",
            "  warnings.warn(message, FutureWarning)\n"
          ],
          "name": "stderr"
        }
      ]
    },
    {
      "cell_type": "code",
      "metadata": {
        "colab": {
          "base_uri": "https://localhost:8080/",
          "height": 224
        },
        "id": "RfA_1BWEI5cB",
        "outputId": "c8bee2e2-8540-431f-ae85-efce553d4521"
      },
      "source": [
        "#Read the dataset into a pandas DataFrame named bank and look at the first few rows of the data:\n",
        "bank = pd.read_csv('bank.csv', sep = ';')\n",
        "bank.head()"
      ],
      "execution_count": 58,
      "outputs": [
        {
          "output_type": "execute_result",
          "data": {
            "text/html": [
              "<div>\n",
              "<style scoped>\n",
              "    .dataframe tbody tr th:only-of-type {\n",
              "        vertical-align: middle;\n",
              "    }\n",
              "\n",
              "    .dataframe tbody tr th {\n",
              "        vertical-align: top;\n",
              "    }\n",
              "\n",
              "    .dataframe thead th {\n",
              "        text-align: right;\n",
              "    }\n",
              "</style>\n",
              "<table border=\"1\" class=\"dataframe\">\n",
              "  <thead>\n",
              "    <tr style=\"text-align: right;\">\n",
              "      <th></th>\n",
              "      <th>age</th>\n",
              "      <th>job</th>\n",
              "      <th>marital</th>\n",
              "      <th>education</th>\n",
              "      <th>default</th>\n",
              "      <th>balance</th>\n",
              "      <th>housing</th>\n",
              "      <th>loan</th>\n",
              "      <th>contact</th>\n",
              "      <th>day</th>\n",
              "      <th>month</th>\n",
              "      <th>duration</th>\n",
              "      <th>campaign</th>\n",
              "      <th>pdays</th>\n",
              "      <th>previous</th>\n",
              "      <th>poutcome</th>\n",
              "      <th>y</th>\n",
              "    </tr>\n",
              "  </thead>\n",
              "  <tbody>\n",
              "    <tr>\n",
              "      <th>0</th>\n",
              "      <td>30</td>\n",
              "      <td>unemployed</td>\n",
              "      <td>married</td>\n",
              "      <td>primary</td>\n",
              "      <td>no</td>\n",
              "      <td>1787</td>\n",
              "      <td>no</td>\n",
              "      <td>no</td>\n",
              "      <td>cellular</td>\n",
              "      <td>19</td>\n",
              "      <td>oct</td>\n",
              "      <td>79</td>\n",
              "      <td>1</td>\n",
              "      <td>-1</td>\n",
              "      <td>0</td>\n",
              "      <td>unknown</td>\n",
              "      <td>no</td>\n",
              "    </tr>\n",
              "    <tr>\n",
              "      <th>1</th>\n",
              "      <td>33</td>\n",
              "      <td>services</td>\n",
              "      <td>married</td>\n",
              "      <td>secondary</td>\n",
              "      <td>no</td>\n",
              "      <td>4789</td>\n",
              "      <td>yes</td>\n",
              "      <td>yes</td>\n",
              "      <td>cellular</td>\n",
              "      <td>11</td>\n",
              "      <td>may</td>\n",
              "      <td>220</td>\n",
              "      <td>1</td>\n",
              "      <td>339</td>\n",
              "      <td>4</td>\n",
              "      <td>failure</td>\n",
              "      <td>no</td>\n",
              "    </tr>\n",
              "    <tr>\n",
              "      <th>2</th>\n",
              "      <td>35</td>\n",
              "      <td>management</td>\n",
              "      <td>single</td>\n",
              "      <td>tertiary</td>\n",
              "      <td>no</td>\n",
              "      <td>1350</td>\n",
              "      <td>yes</td>\n",
              "      <td>no</td>\n",
              "      <td>cellular</td>\n",
              "      <td>16</td>\n",
              "      <td>apr</td>\n",
              "      <td>185</td>\n",
              "      <td>1</td>\n",
              "      <td>330</td>\n",
              "      <td>1</td>\n",
              "      <td>failure</td>\n",
              "      <td>no</td>\n",
              "    </tr>\n",
              "    <tr>\n",
              "      <th>3</th>\n",
              "      <td>30</td>\n",
              "      <td>management</td>\n",
              "      <td>married</td>\n",
              "      <td>tertiary</td>\n",
              "      <td>no</td>\n",
              "      <td>1476</td>\n",
              "      <td>yes</td>\n",
              "      <td>yes</td>\n",
              "      <td>unknown</td>\n",
              "      <td>3</td>\n",
              "      <td>jun</td>\n",
              "      <td>199</td>\n",
              "      <td>4</td>\n",
              "      <td>-1</td>\n",
              "      <td>0</td>\n",
              "      <td>unknown</td>\n",
              "      <td>no</td>\n",
              "    </tr>\n",
              "    <tr>\n",
              "      <th>4</th>\n",
              "      <td>59</td>\n",
              "      <td>blue-collar</td>\n",
              "      <td>married</td>\n",
              "      <td>secondary</td>\n",
              "      <td>no</td>\n",
              "      <td>0</td>\n",
              "      <td>yes</td>\n",
              "      <td>no</td>\n",
              "      <td>unknown</td>\n",
              "      <td>5</td>\n",
              "      <td>may</td>\n",
              "      <td>226</td>\n",
              "      <td>1</td>\n",
              "      <td>-1</td>\n",
              "      <td>0</td>\n",
              "      <td>unknown</td>\n",
              "      <td>no</td>\n",
              "    </tr>\n",
              "  </tbody>\n",
              "</table>\n",
              "</div>"
            ],
            "text/plain": [
              "   age          job  marital  education  ... pdays  previous poutcome   y\n",
              "0   30   unemployed  married    primary  ...    -1         0  unknown  no\n",
              "1   33     services  married  secondary  ...   339         4  failure  no\n",
              "2   35   management   single   tertiary  ...   330         1  failure  no\n",
              "3   30   management  married   tertiary  ...    -1         0  unknown  no\n",
              "4   59  blue-collar  married  secondary  ...    -1         0  unknown  no\n",
              "\n",
              "[5 rows x 17 columns]"
            ]
          },
          "metadata": {
            "tags": []
          },
          "execution_count": 58
        }
      ]
    },
    {
      "cell_type": "code",
      "metadata": {
        "id": "nbl1r29AI_UQ"
      },
      "source": [
        "#Rename the y column as Target\n",
        "bank = bank.rename(columns={'y': 'Target'})"
      ],
      "execution_count": 59,
      "outputs": []
    },
    {
      "cell_type": "code",
      "metadata": {
        "id": "cbIG5gF-JC-p"
      },
      "source": [
        "#Replace the no value with 0 and yes with 1\n",
        "bank['Target']=bank['Target'].replace({'no': 0, 'yes': 1})"
      ],
      "execution_count": 60,
      "outputs": []
    },
    {
      "cell_type": "code",
      "metadata": {
        "colab": {
          "base_uri": "https://localhost:8080/"
        },
        "id": "b5flcFJvJH2J",
        "outputId": "0de84c32-7069-495b-ba4a-8f99f7a7f5b1"
      },
      "source": [
        "#Check the shape and missing values in the data:\n",
        "print(bank.shape)\n",
        "print(bank.isnull().values.any())"
      ],
      "execution_count": 61,
      "outputs": [
        {
          "output_type": "stream",
          "text": [
            "(4334, 17)\n",
            "False\n"
          ],
          "name": "stdout"
        }
      ]
    },
    {
      "cell_type": "code",
      "metadata": {
        "colab": {
          "base_uri": "https://localhost:8080/",
          "height": 281
        },
        "id": "ofAWZYtTJM3A",
        "outputId": "bce4454c-ab36-4308-9c38-43be04835209"
      },
      "source": [
        "#Use the describe function to check the continuous and categorical values\n",
        "bank['Target'].value_counts().plot(kind='bar')"
      ],
      "execution_count": 62,
      "outputs": [
        {
          "output_type": "execute_result",
          "data": {
            "text/plain": [
              "<matplotlib.axes._subplots.AxesSubplot at 0x7f78a2b75278>"
            ]
          },
          "metadata": {
            "tags": []
          },
          "execution_count": 62
        },
        {
          "output_type": "display_data",
          "data": {
            "image/png": "[encoded data removed]",
            "text/plain": [
              "<Figure size 432x288 with 1 Axes>"
            ]
          },
          "metadata": {
            "tags": [],
            "needs_background": "light"
          }
        }
      ]
    },
    {
      "cell_type": "code",
      "metadata": {
        "id": "nHgW0JhaJUdm"
      },
      "source": [
        "#Use the cat.codes function to encode the job, marital, default, housing, loan, contact, and poutcome columns\n",
        "bank[\"job\"] = bank[\"job\"].astype('category').cat.codes\n",
        "bank[\"marital\"] = bank[\"marital\"].astype('category').cat.codes\n",
        "bank[\"default\"] = bank[\"job\"].astype('category').cat.codes\n",
        "bank[\"housing\"] = bank[\"marital\"].astype('category').cat.codes\n",
        "bank[\"loan\"] = bank[\"loan\"].astype('category').cat.codes\n",
        "bank[\"contact\"] = bank[\"contact\"].astype('category').cat.codes\n",
        "bank[\"poutcome\"] = bank[\"poutcome\"].astype('category').cat.codes"
      ],
      "execution_count": 63,
      "outputs": []
    },
    {
      "cell_type": "code",
      "metadata": {
        "id": "deT0wek2JerN"
      },
      "source": [
        "#Since education and month are ordinal columns, we need to convert them nominal type.\n",
        "bank['education']=bank['education'].replace({'primary': 0, 'secondary': 1,'tertiary':2})\n",
        "bank['month']=bank['month'].astype(str)\n",
        "bank['month']=bank['month'].replace({'jan':1, 'feb':2, 'mar':3,'apr':4,\n",
        "                                     'may':5,'jun':6,'jul':7,'aug':8,\n",
        "                                     'sep':9,'oct':10,'nov':11,'dec':12})\n",
        "# bank['education']=bank['education'].replace({'primary': 0, 'secondary': 1,'tertiary':2})\n",
        "# bank['month'].replace(['jan', 'feb', 'mar','apr','may','jun','jul','aug','sep','oct','nov','dec'], [1,2,3,4,5,6,7,8,9,10,11,12], inplace  = True)"
      ],
      "execution_count": 64,
      "outputs": []
    },
    {
      "cell_type": "code",
      "metadata": {
        "colab": {
          "base_uri": "https://localhost:8080/",
          "height": 224
        },
        "id": "so-1iolHJ5Mx",
        "outputId": "82aaacc4-ef32-452a-dfc1-9b9d1a5e1225"
      },
      "source": [
        "#Recheck the bank data after conversion\n",
        "bank.head()"
      ],
      "execution_count": 65,
      "outputs": [
        {
          "output_type": "execute_result",
          "data": {
            "text/html": [
              "<div>\n",
              "<style scoped>\n",
              "    .dataframe tbody tr th:only-of-type {\n",
              "        vertical-align: middle;\n",
              "    }\n",
              "\n",
              "    .dataframe tbody tr th {\n",
              "        vertical-align: top;\n",
              "    }\n",
              "\n",
              "    .dataframe thead th {\n",
              "        text-align: right;\n",
              "    }\n",
              "</style>\n",
              "<table border=\"1\" class=\"dataframe\">\n",
              "  <thead>\n",
              "    <tr style=\"text-align: right;\">\n",
              "      <th></th>\n",
              "      <th>age</th>\n",
              "      <th>job</th>\n",
              "      <th>marital</th>\n",
              "      <th>education</th>\n",
              "      <th>default</th>\n",
              "      <th>balance</th>\n",
              "      <th>housing</th>\n",
              "      <th>loan</th>\n",
              "      <th>contact</th>\n",
              "      <th>day</th>\n",
              "      <th>month</th>\n",
              "      <th>duration</th>\n",
              "      <th>campaign</th>\n",
              "      <th>pdays</th>\n",
              "      <th>previous</th>\n",
              "      <th>poutcome</th>\n",
              "      <th>Target</th>\n",
              "    </tr>\n",
              "  </thead>\n",
              "  <tbody>\n",
              "    <tr>\n",
              "      <th>0</th>\n",
              "      <td>30</td>\n",
              "      <td>10</td>\n",
              "      <td>1</td>\n",
              "      <td>0</td>\n",
              "      <td>10</td>\n",
              "      <td>1787</td>\n",
              "      <td>1</td>\n",
              "      <td>0</td>\n",
              "      <td>0</td>\n",
              "      <td>19</td>\n",
              "      <td>10</td>\n",
              "      <td>79</td>\n",
              "      <td>1</td>\n",
              "      <td>-1</td>\n",
              "      <td>0</td>\n",
              "      <td>3</td>\n",
              "      <td>0</td>\n",
              "    </tr>\n",
              "    <tr>\n",
              "      <th>1</th>\n",
              "      <td>33</td>\n",
              "      <td>7</td>\n",
              "      <td>1</td>\n",
              "      <td>1</td>\n",
              "      <td>7</td>\n",
              "      <td>4789</td>\n",
              "      <td>1</td>\n",
              "      <td>1</td>\n",
              "      <td>0</td>\n",
              "      <td>11</td>\n",
              "      <td>5</td>\n",
              "      <td>220</td>\n",
              "      <td>1</td>\n",
              "      <td>339</td>\n",
              "      <td>4</td>\n",
              "      <td>0</td>\n",
              "      <td>0</td>\n",
              "    </tr>\n",
              "    <tr>\n",
              "      <th>2</th>\n",
              "      <td>35</td>\n",
              "      <td>4</td>\n",
              "      <td>2</td>\n",
              "      <td>2</td>\n",
              "      <td>4</td>\n",
              "      <td>1350</td>\n",
              "      <td>2</td>\n",
              "      <td>0</td>\n",
              "      <td>0</td>\n",
              "      <td>16</td>\n",
              "      <td>4</td>\n",
              "      <td>185</td>\n",
              "      <td>1</td>\n",
              "      <td>330</td>\n",
              "      <td>1</td>\n",
              "      <td>0</td>\n",
              "      <td>0</td>\n",
              "    </tr>\n",
              "    <tr>\n",
              "      <th>3</th>\n",
              "      <td>30</td>\n",
              "      <td>4</td>\n",
              "      <td>1</td>\n",
              "      <td>2</td>\n",
              "      <td>4</td>\n",
              "      <td>1476</td>\n",
              "      <td>1</td>\n",
              "      <td>1</td>\n",
              "      <td>2</td>\n",
              "      <td>3</td>\n",
              "      <td>6</td>\n",
              "      <td>199</td>\n",
              "      <td>4</td>\n",
              "      <td>-1</td>\n",
              "      <td>0</td>\n",
              "      <td>3</td>\n",
              "      <td>0</td>\n",
              "    </tr>\n",
              "    <tr>\n",
              "      <th>4</th>\n",
              "      <td>59</td>\n",
              "      <td>1</td>\n",
              "      <td>1</td>\n",
              "      <td>1</td>\n",
              "      <td>1</td>\n",
              "      <td>0</td>\n",
              "      <td>1</td>\n",
              "      <td>0</td>\n",
              "      <td>2</td>\n",
              "      <td>5</td>\n",
              "      <td>5</td>\n",
              "      <td>226</td>\n",
              "      <td>1</td>\n",
              "      <td>-1</td>\n",
              "      <td>0</td>\n",
              "      <td>3</td>\n",
              "      <td>0</td>\n",
              "    </tr>\n",
              "  </tbody>\n",
              "</table>\n",
              "</div>"
            ],
            "text/plain": [
              "   age  job  marital  education  ...  pdays  previous  poutcome  Target\n",
              "0   30   10        1          0  ...     -1         0         3       0\n",
              "1   33    7        1          1  ...    339         4         0       0\n",
              "2   35    4        2          2  ...    330         1         0       0\n",
              "3   30    4        1          2  ...     -1         0         3       0\n",
              "4   59    1        1          1  ...     -1         0         3       0\n",
              "\n",
              "[5 rows x 17 columns]"
            ]
          },
          "metadata": {
            "tags": []
          },
          "execution_count": 65
        }
      ]
    },
    {
      "cell_type": "code",
      "metadata": {
        "colab": {
          "base_uri": "https://localhost:8080/"
        },
        "id": "UGKNJ63GKV9-",
        "outputId": "16d164f7-f258-4e80-b783-97018f351852"
      },
      "source": [
        "bank['month'].value_counts()"
      ],
      "execution_count": 66,
      "outputs": [
        {
          "output_type": "execute_result",
          "data": {
            "text/plain": [
              "5     1339\n",
              "7      681\n",
              "8      618\n",
              "6      495\n",
              "11     377\n",
              "4      288\n",
              "2      213\n",
              "1      136\n",
              "10      75\n",
              "3       47\n",
              "9       47\n",
              "12      18\n",
              "Name: month, dtype: int64"
            ]
          },
          "metadata": {
            "tags": []
          },
          "execution_count": 66
        }
      ]
    },
    {
      "cell_type": "code",
      "metadata": {
        "id": "sVS2dCSIKd3F"
      },
      "source": [
        "#Split the data into training and testing sets using train_test_split, as follows:\n",
        "target = 'Target'\n",
        "X = bank.drop(['Target'], axis=1)\n",
        "y=bank[target]\n",
        "\n",
        "X_train, X_test, y_train, y_test = train_test_split(X,y,test_size=0.15, random_state=123, stratify=y)"
      ],
      "execution_count": 67,
      "outputs": []
    },
    {
      "cell_type": "code",
      "metadata": {
        "colab": {
          "base_uri": "https://localhost:8080/"
        },
        "id": "9XM0oCGOKyFJ",
        "outputId": "ab1189ab-7287-4066-e977-2d7f845dd3cc"
      },
      "source": [
        "#Check the number of classes in y_train and y_test:\n",
        "print(sorted(Counter(y_train).items()))\n",
        "print(sorted(Counter(y_test).items()))"
      ],
      "execution_count": 68,
      "outputs": [
        {
          "output_type": "stream",
          "text": [
            "[(0, 3256), (1, 427)]\n",
            "[(0, 576), (1, 75)]\n"
          ],
          "name": "stdout"
        }
      ]
    },
    {
      "cell_type": "code",
      "metadata": {
        "id": "1WIq3YLLK0zy"
      },
      "source": [
        "#Use the standard_scalar function to transform the X_train and X_test data.\n",
        "#Assign it to the X_train_sc and X_test_sc variables\n",
        "standard_scalar = StandardScaler()\n",
        "X_train_sc = standard_scalar.fit_transform(X_train)\n",
        "X_test_sc = standard_scalar.transform(X_test)"
      ],
      "execution_count": 69,
      "outputs": []
    },
    {
      "cell_type": "code",
      "metadata": {
        "id": "jFHitMUgK6O5"
      },
      "source": [
        "#Call the random forest classifier \n",
        "# with parameters n_estimators=20, max_depth=None, min_samples_split=7, and random_state=0:\n",
        "clf_random = RandomForestClassifier(n_estimators=20, max_depth=None,\n",
        "min_samples_split=7, random_state=0)"
      ],
      "execution_count": 70,
      "outputs": []
    },
    {
      "cell_type": "code",
      "metadata": {
        "colab": {
          "base_uri": "https://localhost:8080/"
        },
        "id": "n8hzGCWbLAHQ",
        "outputId": "aa178fe4-ba84-4780-90a8-f3a04d3d409c"
      },
      "source": [
        "#Fit the random forest model:\n",
        "clf_random.fit(X_train_sc,y_train)"
      ],
      "execution_count": 71,
      "outputs": [
        {
          "output_type": "execute_result",
          "data": {
            "text/plain": [
              "RandomForestClassifier(bootstrap=True, ccp_alpha=0.0, class_weight=None,\n",
              "                       criterion='gini', max_depth=None, max_features='auto',\n",
              "                       max_leaf_nodes=None, max_samples=None,\n",
              "                       min_impurity_decrease=0.0, min_impurity_split=None,\n",
              "                       min_samples_leaf=1, min_samples_split=7,\n",
              "                       min_weight_fraction_leaf=0.0, n_estimators=20,\n",
              "                       n_jobs=None, oob_score=False, random_state=0, verbose=0,\n",
              "                       warm_start=False)"
            ]
          },
          "metadata": {
            "tags": []
          },
          "execution_count": 71
        }
      ]
    },
    {
      "cell_type": "code",
      "metadata": {
        "id": "U1fobEC5LDdf"
      },
      "source": [
        "#Predict on the test data using the random forest model\n",
        "y_pred=clf_random.predict(X_test_sc)"
      ],
      "execution_count": 72,
      "outputs": []
    },
    {
      "cell_type": "code",
      "metadata": {
        "colab": {
          "base_uri": "https://localhost:8080/"
        },
        "id": "odF4JrgJLpTD",
        "outputId": "ca330f43-c46a-4a84-907e-1294053a687d"
      },
      "source": [
        "#Get the classification report\n",
        "target_names = ['No', 'Yes']\n",
        "print(classification_report(y_test, y_pred,target_names=target_names))\n",
        "cm = confusion_matrix(y_test, y_pred) "
      ],
      "execution_count": 74,
      "outputs": [
        {
          "output_type": "stream",
          "text": [
            "              precision    recall  f1-score   support\n",
            "\n",
            "          No       0.92      0.98      0.95       576\n",
            "         Yes       0.67      0.32      0.43        75\n",
            "\n",
            "    accuracy                           0.90       651\n",
            "   macro avg       0.79      0.65      0.69       651\n",
            "weighted avg       0.89      0.90      0.89       651\n",
            "\n"
          ],
          "name": "stdout"
        }
      ]
    },
    {
      "cell_type": "code",
      "metadata": {
        "colab": {
          "base_uri": "https://localhost:8080/",
          "height": 419
        },
        "id": "xrpo3MDDLrci",
        "outputId": "fae40229-1c1c-4eb1-b6e0-c9f6e8c5aae6"
      },
      "source": [
        "#Get the confusion matrix\n",
        "cm_df = pd.DataFrame(cm,\n",
        "                     index = ['No', 'Yes'], \n",
        "                     columns = ['No', 'Yes'])\n",
        "plt.figure(figsize=(8,6))\n",
        "sns.heatmap(cm_df, annot=True,fmt='g',cmap='Blues')\n",
        "plt.title('Random Forest \\nAccuracy:{0:.3f}'.format(accuracy_score(y_test, y_pred)))\n",
        "plt.ylabel('True Values')\n",
        "plt.xlabel('Predicted Values')\n",
        "plt.show()"
      ],
      "execution_count": 75,
      "outputs": [
        {
          "output_type": "display_data",
          "data": {
            "image/png": "[encoded data removed]",
            "text/plain": [
              "<Figure size 576x432 with 2 Axes>"
            ]
          },
          "metadata": {
            "tags": [],
            "needs_background": "light"
          }
        }
      ]
    },
    {
      "cell_type": "code",
      "metadata": {
        "colab": {
          "base_uri": "https://localhost:8080/"
        },
        "id": "qTMsrDZtMMq2",
        "outputId": "efdf3be9-59c7-43ea-a698-9d27e6ffd7ec"
      },
      "source": [
        "#Use the smote() function on x_train and y_train.\n",
        "#Assign it to the x_resampled and y_resampled variables, respectively\n",
        "X_resampled, y_resampled = SMOTE().fit_resample(X_train,y_train)"
      ],
      "execution_count": 76,
      "outputs": [
        {
          "output_type": "stream",
          "text": [
            "/usr/local/lib/python3.6/dist-packages/sklearn/utils/deprecation.py:87: FutureWarning: Function safe_indexing is deprecated; safe_indexing is deprecated in version 0.22 and will be removed in version 0.24.\n",
            "  warnings.warn(msg, category=FutureWarning)\n"
          ],
          "name": "stderr"
        }
      ]
    },
    {
      "cell_type": "code",
      "metadata": {
        "id": "vNILeurZMVgT"
      },
      "source": [
        "#Use standard_scalar to fit on x_resampled and x_test.\n",
        "#Assign it to the X_train_sc_resampled and X_test_sc variables:\n",
        "standard_scalar = StandardScaler()\n",
        "X_train_sc_resampled = standard_scalar.fit_transform(X_resampled)\n",
        "X_test_sc = standard_scalar.transform(X_test)"
      ],
      "execution_count": 77,
      "outputs": []
    },
    {
      "cell_type": "code",
      "metadata": {
        "colab": {
          "base_uri": "https://localhost:8080/"
        },
        "id": "IPQqXIAiMaFL",
        "outputId": "f1a1315a-1d58-4bf2-b031-f5b29d2ba0ef"
      },
      "source": [
        "#Fit the random forest classifier on X_train_sc_resampled and y_resampled:\n",
        "clf_random.fit(X_train_sc_resampled,y_resampled)"
      ],
      "execution_count": 79,
      "outputs": [
        {
          "output_type": "execute_result",
          "data": {
            "text/plain": [
              "RandomForestClassifier(bootstrap=True, ccp_alpha=0.0, class_weight=None,\n",
              "                       criterion='gini', max_depth=None, max_features='auto',\n",
              "                       max_leaf_nodes=None, max_samples=None,\n",
              "                       min_impurity_decrease=0.0, min_impurity_split=None,\n",
              "                       min_samples_leaf=1, min_samples_split=7,\n",
              "                       min_weight_fraction_leaf=0.0, n_estimators=20,\n",
              "                       n_jobs=None, oob_score=False, random_state=0, verbose=0,\n",
              "                       warm_start=False)"
            ]
          },
          "metadata": {
            "tags": []
          },
          "execution_count": 79
        }
      ]
    },
    {
      "cell_type": "code",
      "metadata": {
        "id": "_GGtY9yoMeOj"
      },
      "source": [
        "#Predict on X_test_sc\n",
        "y_pred=clf_random.predict(X_test_sc)"
      ],
      "execution_count": 80,
      "outputs": []
    },
    {
      "cell_type": "code",
      "metadata": {
        "colab": {
          "base_uri": "https://localhost:8080/"
        },
        "id": "NkpF7qJ4MjkK",
        "outputId": "79d2d619-cadc-4c41-9051-1bd02ce928c6"
      },
      "source": [
        "#Generate the classification report\n",
        "target_names = ['No', 'Yes']\n",
        "print(classification_report(y_test, y_pred,target_names=target_names))"
      ],
      "execution_count": 81,
      "outputs": [
        {
          "output_type": "stream",
          "text": [
            "              precision    recall  f1-score   support\n",
            "\n",
            "          No       0.95      0.91      0.93       576\n",
            "         Yes       0.48      0.63      0.54        75\n",
            "\n",
            "    accuracy                           0.88       651\n",
            "   macro avg       0.71      0.77      0.74       651\n",
            "weighted avg       0.90      0.88      0.89       651\n",
            "\n"
          ],
          "name": "stdout"
        }
      ]
    },
    {
      "cell_type": "code",
      "metadata": {
        "colab": {
          "base_uri": "https://localhost:8080/",
          "height": 419
        },
        "id": "R5NK3XdIMwAo",
        "outputId": "0403ceba-6834-4bf1-9649-76bc5ac06517"
      },
      "source": [
        "#Plot the confusion matrix\n",
        "cm = confusion_matrix(y_test, y_pred) \n",
        "\n",
        "cm_df = pd.DataFrame(cm,\n",
        "                     index = ['No', 'Yes'], \n",
        "                     columns = ['No', 'Yes'])\n",
        "plt.figure(figsize=(8,6))\n",
        "sns.heatmap(cm_df, annot=True,fmt='g',cmap='Blues')\n",
        "plt.title('Random Forest \\nAccuracy:{0:.3f}'.format(accuracy_score(y_test, y_pred)))\n",
        "plt.ylabel('True Values')\n",
        "plt.xlabel('Predicted Values')\n",
        "plt.show()"
      ],
      "execution_count": 82,
      "outputs": [
        {
          "output_type": "display_data",
          "data": {
            "image/png": "[encoded data removed]",
            "text/plain": [
              "<Figure size 576x432 with 2 Axes>"
            ]
          },
          "metadata": {
            "tags": [],
            "needs_background": "light"
          }
        }
      ]
    },
    {
      "cell_type": "markdown",
      "metadata": {
        "id": "L9lLUupYM9mp"
      },
      "source": [
        "From the results, our bank marketing data was highly imbalanced. We observed that, although without using a sampling technique our model accuracy is around 90%, the recall score and macro-average score was 32% (Yes - Term Deposit) and 65%, respectively. This implies that our model is not able to generalize, and most of the time it misses potential customers who would subscribe to the term deposit.\n",
        "\n",
        "On the other hand, when we used SMOTE, our model accuracy was around 87%, but the recall score and macro-average score was 63% (Yes - Term Deposit) and 77%, respectively. This implies that our model can generalize and, more than 60% of the time, it detects potential customers who would subscribe to the term deposit."
      ]
    },
    {
      "cell_type": "code",
      "metadata": {
        "id": "I_QTqKodMy3P"
      },
      "source": [
        ""
      ],
      "execution_count": null,
      "outputs": []
    }
  ]
}